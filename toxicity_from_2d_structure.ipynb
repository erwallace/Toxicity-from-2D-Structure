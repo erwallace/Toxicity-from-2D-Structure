{
 "cells": [
  {
   "cell_type": "markdown",
   "source": [
    "## Predicting Toxicity from a 2D Molecular Structure (WORK IN PROGRESS)"
   ],
   "metadata": {
    "collapsed": false
   }
  },
  {
   "cell_type": "markdown",
   "source": [
    "[introduction to script, aims, method, outcome]"
   ],
   "metadata": {
    "collapsed": false
   }
  },
  {
   "cell_type": "markdown",
   "source": [
    "[RDKit image to CNN input image](https://www.cheminformania.com/learn-how-to-teach-your-computer-to-see-chemistry-free-chemception-models-with-rdkit-and-keras/)\n",
    "used chemcepterize_mol function from this site by Esben J. Bjerrum.\n",
    "\n",
    "[Chemception paper](https://arxiv.org/abs/1706.06689)\n",
    "Goh, Garrett B., Charles Siegel, Abhinav Vishnu, Nathan O. Hodas, and Nathan Baker. \"Chemception: a deep neural network with minimal chemistry knowledge matches the performance of expert-developed QSAR/QSPR models.\" arXiv preprint arXiv:1706.06689 (2017).\n",
    "\n",
    "[CNN guide from MNIST dataset](https://www.kaggle.com/code/tcmaso/mnist-guide-cnn-augmentation-tuning-99-5)"
   ],
   "metadata": {
    "collapsed": false
   }
  },
  {
   "cell_type": "markdown",
   "source": [
    "additoinal notes:\n",
    "- image gives no indication of atom, stereochemistry or bond order of bonds"
   ],
   "metadata": {
    "collapsed": false
   }
  },
  {
   "cell_type": "markdown",
   "source": [
    "1. **Introduction**\n",
    "1.1 Abstract\n",
    "1.2 Libraries\n",
    "2. **Data preparation and pre-processing**\n",
    "2.1 Loading data\n",
    "2.2 Checking for missing values\n",
    "2.3 Creating inputs\n",
    "2.4 Data visualizations\n",
    "2.5 Creating training and validation sets\n",
    "2.6 Pre-processing pipelines\n",
    "2.7 Custom f1, recall and precision metrics\n",
    "3. **Building network and training**\n",
    "3.1 Building network\n",
    "3.2 Training network\n",
    "3.3 Validation results\n",
    "3.4 Review of incorrectly classified examples\n",
    "3.5 Visualizing filters and feature-maps\n",
    "4. **Data augmentation**\n",
    "4.1 Creating an ImageDataGenerator\n",
    "4.2 Augmented images visualized\n",
    "4.3 Training network on augmented data\n",
    "4.4 Validation results on augmented data\n",
    "5. **Hyper-parameter tuning**\n",
    "5.1 Building hyper-parameter model\n",
    "5.2 Hyper-parameter search (using HyperBand)\n",
    "5.3 Hyper-parameter results\n",
    "6. **Ensembling**\n",
    "6.1 Ensembling top models from hyper-parameter tuning\n",
    "6.2 Voting classifier function and results\n",
    "6.3 Ensembling on best model\n",
    "7. **Conclusion**\n",
    "7.1 Results summary"
   ],
   "metadata": {
    "collapsed": false
   }
  },
  {
   "cell_type": "markdown",
   "source": [
    "**1.1 Abstract**"
   ],
   "metadata": {
    "collapsed": false
   }
  },
  {
   "cell_type": "markdown",
   "source": [
    "[abstract]"
   ],
   "metadata": {
    "collapsed": false
   }
  },
  {
   "cell_type": "markdown",
   "source": [
    "**1.2 Libraries**"
   ],
   "metadata": {
    "collapsed": false
   }
  },
  {
   "cell_type": "code",
   "execution_count": 1,
   "outputs": [],
   "source": [
    "import os\n",
    "import pandas as pd\n",
    "import numpy as np\n",
    "from matplotlib import pyplot as plt\n",
    "import seaborn as sns\n",
    "\n",
    "import rdkit\n",
    "from rdkit import Chem\n",
    "from rdkit.Chem import AllChem, Draw\n",
    "\n",
    "from sklearn.model_selection import train_test_split\n",
    "from tensorflow import keras"
   ],
   "metadata": {
    "collapsed": false
   }
  },
  {
   "cell_type": "code",
   "execution_count": 2,
   "outputs": [],
   "source": [
    "# np.random.seed()"
   ],
   "metadata": {
    "collapsed": false
   }
  },
  {
   "cell_type": "markdown",
   "source": [
    "## Data preparation and pre-processing"
   ],
   "metadata": {
    "collapsed": false
   }
  },
  {
   "cell_type": "markdown",
   "source": [
    "[what is the tox21 dataset?]"
   ],
   "metadata": {
    "collapsed": false
   }
  },
  {
   "cell_type": "markdown",
   "source": [
    "**2.1 Loading data**"
   ],
   "metadata": {
    "collapsed": false
   }
  },
  {
   "cell_type": "code",
   "execution_count": 3,
   "outputs": [
    {
     "name": "stdout",
     "output_type": "stream",
     "text": [
      "(7817, 14)\n"
     ]
    },
    {
     "data": {
      "text/plain": "   NR-AR  NR-AR-LBD  NR-AhR  NR-Aromatase  NR-ER  NR-ER-LBD  NR-PPAR-gamma  \\\n0    0.0        0.0     1.0           NaN    NaN        0.0            0.0   \n1    0.0        0.0     0.0           0.0    0.0        0.0            0.0   \n2    NaN        NaN     NaN           NaN    NaN        NaN            NaN   \n3    0.0        0.0     0.0           0.0    0.0        0.0            0.0   \n4    0.0        0.0     0.0           0.0    0.0        0.0            0.0   \n\n   SR-ARE  SR-ATAD5  SR-HSE  SR-MMP  SR-p53    mol_id  \\\n0     1.0       0.0     0.0     0.0     0.0   TOX3021   \n1     NaN       0.0     NaN     0.0     0.0   TOX3020   \n2     0.0       NaN     0.0     NaN     NaN   TOX3024   \n3     NaN       0.0     NaN     0.0     0.0   TOX3027   \n4     0.0       0.0     0.0     0.0     0.0  TOX20800   \n\n                                              smiles  \n0                       CCOc1ccc2nc(S(N)(=O)=O)sc2c1  \n1                          CCN1C(=O)NC(c2ccccc2)C1=O  \n2  CC[C@]1(O)CC[C@H]2[C@@H]3CCC4=CCCC[C@@H]4[C@H]...  \n3                    CCCN(CC)C(CC)C(=O)Nc1c(C)cccc1C  \n4                          CC(O)(P(=O)(O)O)P(=O)(O)O  ",
      "text/html": "<div>\n<style scoped>\n    .dataframe tbody tr th:only-of-type {\n        vertical-align: middle;\n    }\n\n    .dataframe tbody tr th {\n        vertical-align: top;\n    }\n\n    .dataframe thead th {\n        text-align: right;\n    }\n</style>\n<table border=\"1\" class=\"dataframe\">\n  <thead>\n    <tr style=\"text-align: right;\">\n      <th></th>\n      <th>NR-AR</th>\n      <th>NR-AR-LBD</th>\n      <th>NR-AhR</th>\n      <th>NR-Aromatase</th>\n      <th>NR-ER</th>\n      <th>NR-ER-LBD</th>\n      <th>NR-PPAR-gamma</th>\n      <th>SR-ARE</th>\n      <th>SR-ATAD5</th>\n      <th>SR-HSE</th>\n      <th>SR-MMP</th>\n      <th>SR-p53</th>\n      <th>mol_id</th>\n      <th>smiles</th>\n    </tr>\n  </thead>\n  <tbody>\n    <tr>\n      <th>0</th>\n      <td>0.0</td>\n      <td>0.0</td>\n      <td>1.0</td>\n      <td>NaN</td>\n      <td>NaN</td>\n      <td>0.0</td>\n      <td>0.0</td>\n      <td>1.0</td>\n      <td>0.0</td>\n      <td>0.0</td>\n      <td>0.0</td>\n      <td>0.0</td>\n      <td>TOX3021</td>\n      <td>CCOc1ccc2nc(S(N)(=O)=O)sc2c1</td>\n    </tr>\n    <tr>\n      <th>1</th>\n      <td>0.0</td>\n      <td>0.0</td>\n      <td>0.0</td>\n      <td>0.0</td>\n      <td>0.0</td>\n      <td>0.0</td>\n      <td>0.0</td>\n      <td>NaN</td>\n      <td>0.0</td>\n      <td>NaN</td>\n      <td>0.0</td>\n      <td>0.0</td>\n      <td>TOX3020</td>\n      <td>CCN1C(=O)NC(c2ccccc2)C1=O</td>\n    </tr>\n    <tr>\n      <th>2</th>\n      <td>NaN</td>\n      <td>NaN</td>\n      <td>NaN</td>\n      <td>NaN</td>\n      <td>NaN</td>\n      <td>NaN</td>\n      <td>NaN</td>\n      <td>0.0</td>\n      <td>NaN</td>\n      <td>0.0</td>\n      <td>NaN</td>\n      <td>NaN</td>\n      <td>TOX3024</td>\n      <td>CC[C@]1(O)CC[C@H]2[C@@H]3CCC4=CCCC[C@@H]4[C@H]...</td>\n    </tr>\n    <tr>\n      <th>3</th>\n      <td>0.0</td>\n      <td>0.0</td>\n      <td>0.0</td>\n      <td>0.0</td>\n      <td>0.0</td>\n      <td>0.0</td>\n      <td>0.0</td>\n      <td>NaN</td>\n      <td>0.0</td>\n      <td>NaN</td>\n      <td>0.0</td>\n      <td>0.0</td>\n      <td>TOX3027</td>\n      <td>CCCN(CC)C(CC)C(=O)Nc1c(C)cccc1C</td>\n    </tr>\n    <tr>\n      <th>4</th>\n      <td>0.0</td>\n      <td>0.0</td>\n      <td>0.0</td>\n      <td>0.0</td>\n      <td>0.0</td>\n      <td>0.0</td>\n      <td>0.0</td>\n      <td>0.0</td>\n      <td>0.0</td>\n      <td>0.0</td>\n      <td>0.0</td>\n      <td>0.0</td>\n      <td>TOX20800</td>\n      <td>CC(O)(P(=O)(O)O)P(=O)(O)O</td>\n    </tr>\n  </tbody>\n</table>\n</div>"
     },
     "execution_count": 3,
     "metadata": {},
     "output_type": "execute_result"
    }
   ],
   "source": [
    "df = pd.read_csv('tox21_data.csv')\n",
    "print(df.shape)\n",
    "df.head()"
   ],
   "metadata": {
    "collapsed": false
   }
  },
  {
   "cell_type": "markdown",
   "source": [
    "**2.2 Check for missing data**"
   ],
   "metadata": {
    "collapsed": false
   }
  },
  {
   "cell_type": "code",
   "execution_count": 4,
   "outputs": [
    {
     "name": "stdout",
     "output_type": "stream",
     "text": [
      "<class 'pandas.core.frame.DataFrame'>\n",
      "RangeIndex: 7817 entries, 0 to 7816\n",
      "Data columns (total 14 columns):\n",
      " #   Column         Non-Null Count  Dtype  \n",
      "---  ------         --------------  -----  \n",
      " 0   NR-AR          7251 non-null   float64\n",
      " 1   NR-AR-LBD      6745 non-null   float64\n",
      " 2   NR-AhR         6537 non-null   float64\n",
      " 3   NR-Aromatase   5809 non-null   float64\n",
      " 4   NR-ER          6181 non-null   float64\n",
      " 5   NR-ER-LBD      6941 non-null   float64\n",
      " 6   NR-PPAR-gamma  6437 non-null   float64\n",
      " 7   SR-ARE         5826 non-null   float64\n",
      " 8   SR-ATAD5       7058 non-null   float64\n",
      " 9   SR-HSE         6460 non-null   float64\n",
      " 10  SR-MMP         5802 non-null   float64\n",
      " 11  SR-p53         6761 non-null   float64\n",
      " 12  mol_id         7817 non-null   object \n",
      " 13  smiles         7817 non-null   object \n",
      "dtypes: float64(12), object(2)\n",
      "memory usage: 855.1+ KB\n"
     ]
    }
   ],
   "source": [
    "df.info()"
   ],
   "metadata": {
    "collapsed": false
   }
  },
  {
   "cell_type": "code",
   "execution_count": 5,
   "outputs": [
    {
     "name": "stdout",
     "output_type": "stream",
     "text": [
      "4739/7817 (60.6%) rows contain NaNs. This is a considerable number but we will deal with this when we calculate toxicity below.\n"
     ]
    }
   ],
   "source": [
    "num_nan = sum([True for idx,row in df.iterrows() if any(row.isnull())])\n",
    "print(f'{num_nan}/{df.shape[0]} ({100*num_nan/df.shape[0]:.1f}%) rows contain NaNs. This is a considerable number but we will deal with this when we calculate toxicity below.')"
   ],
   "metadata": {
    "collapsed": false
   }
  },
  {
   "cell_type": "markdown",
   "source": [],
   "metadata": {
    "collapsed": false
   }
  },
  {
   "cell_type": "markdown",
   "source": [
    "**2.3 Creating Inputs**"
   ],
   "metadata": {
    "collapsed": false
   }
  },
  {
   "cell_type": "code",
   "execution_count": 6,
   "outputs": [
    {
     "name": "stdout",
     "output_type": "stream",
     "text": [
      "tox21 dataset has 5269 molecules, 2867 (54.4%) of which are classified as toxic.\n"
     ]
    },
    {
     "name": "stderr",
     "output_type": "stream",
     "text": [
      "c:\\users\\erw\\appdata\\local\\programs\\python\\python39\\lib\\site-packages\\pandas\\util\\_decorators.py:311: SettingWithCopyWarning: \n",
      "A value is trying to be set on a copy of a slice from a DataFrame\n",
      "\n",
      "See the caveats in the documentation: https://pandas.pydata.org/pandas-docs/stable/user_guide/indexing.html#returning-a-view-versus-a-copy\n",
      "  return func(*args, **kwargs)\n"
     ]
    }
   ],
   "source": [
    "# classify whether each molecule is considered toxic across all categories\n",
    "df['toxic'] = np.where(df.loc[:,'NR-AR':'SR-p53'].sum(axis=1)==0, 0, 1)\n",
    "\n",
    "# if the molecule is toxic, then we ignore any NaNs in this row as, regardless of the NaNs actual value, the molecule is still toxic\n",
    "toxic = df[df['toxic']==1]\n",
    "\n",
    "# if the molecule is not toxic, we drop any rows containing NaNs as these may have contained 1s (i.e. indicated toxic)\n",
    "nontoxic = df[df['toxic']==0]\n",
    "nontoxic.dropna(inplace=True)\n",
    "\n",
    "# recombine dataframes\n",
    "df = pd.concat([toxic, nontoxic]).reset_index(drop=True)\n",
    "print(f'tox21 dataset has {df.shape[0]} molecules, {toxic.shape[0]} ({100*toxic.shape[0]/df.shape[0]:.1f}%) of which are classified as toxic.')"
   ],
   "metadata": {
    "collapsed": false
   }
  },
  {
   "cell_type": "markdown",
   "source": [
    "This has the added bonus of giving us an approx. 50:50 split."
   ],
   "metadata": {
    "collapsed": false
   }
  },
  {
   "cell_type": "code",
   "execution_count": 7,
   "outputs": [],
   "source": [
    "df['molecule'] = df['smiles'].apply(Chem.MolFromSmiles)"
   ],
   "metadata": {
    "collapsed": false
   }
  },
  {
   "cell_type": "code",
   "execution_count": 8,
   "outputs": [],
   "source": [
    "# modified code from Esben J. Bjerrum\n",
    "def mol_to_greyscale(mol, embed=20.0, res=0.5):\n",
    "\n",
    "    dims = int(embed*2/res)\n",
    "    cmol = Chem.Mol(mol.ToBinary())\n",
    "    AllChem.Compute2DCoords(cmol)\n",
    "    coords = cmol.GetConformer(0).GetPositions()\n",
    "    vect = np.zeros((dims, dims, 1))\n",
    "\n",
    "    #Bonds first\n",
    "    for i, bond in enumerate(mol.GetBonds()):\n",
    "\n",
    "        bondorder = bond.GetBondTypeAsDouble()\n",
    "        bidx = bond.GetBeginAtomIdx()\n",
    "        eidx = bond.GetEndAtomIdx()\n",
    "        bcoords = coords[bidx]\n",
    "        ecoords = coords[eidx]\n",
    "        frac = np.linspace(0, 1, int(1/res*2))\n",
    "\n",
    "        for f in frac:\n",
    "            c = (f * bcoords + (1 - f) * ecoords)\n",
    "            idx = int(round((c[0] + embed) / res))\n",
    "            idy = int(round((c[1] + embed) / res))\n",
    "            vect[idx, idy, 0] = bondorder\n",
    "\n",
    "    # Atoms second\n",
    "    for i, atom in enumerate(cmol.GetAtoms()):\n",
    "        idx = int(round((coords[i][0] + embed) / res))\n",
    "        idy = int(round((coords[i][1] + embed) / res))\n",
    "        # Atomic number\n",
    "        vect[idx, idy, 0] = atom.GetAtomicNum()\n",
    "\n",
    "    return vect\n",
    "\n",
    "def vectorise(mol, embed=19, res=0.4):\n",
    "    return mol_to_greyscale(mol, embed, res)"
   ],
   "metadata": {
    "collapsed": false
   }
  },
  {
   "cell_type": "markdown",
   "source": [
    "this is strange, most molecules i'm looking at don't get anywhere close to filling the frame. How can I change this?"
   ],
   "metadata": {
    "collapsed": false
   }
  },
  {
   "cell_type": "code",
   "execution_count": 9,
   "outputs": [
    {
     "name": "stdout",
     "output_type": "stream",
     "text": [
      "(95, 95, 1)\n"
     ]
    },
    {
     "data": {
      "text/plain": "<Figure size 720x360 with 1 Axes>",
      "image/png": "[encoded data removed]"
     },
     "metadata": {
      "needs_background": "light"
     },
     "output_type": "display_data"
    },
    {
     "data": {
      "text/plain": "<PIL.PngImagePlugin.PngImageFile image mode=RGB size=300x300 at 0x28C20AB3910>",
      "image/png": "[encoded data removed]"
     },
     "execution_count": 9,
     "metadata": {},
     "output_type": "execute_result"
    }
   ],
   "source": [
    "mol = df[\"molecule\"][15]\n",
    "v = mol_to_greyscale(mol, embed=19, res=0.4)\n",
    "print(v.shape)\n",
    "\n",
    "fig, ax = plt.subplots(figsize=(10,5))\n",
    "plt.imshow(v, cmap='Greys')\n",
    "\n",
    "plt.show()\n",
    "\n",
    "Draw.MolToImage(mol)"
   ],
   "metadata": {
    "collapsed": false
   }
  },
  {
   "cell_type": "code",
   "execution_count": 10,
   "outputs": [
    {
     "name": "stdout",
     "output_type": "stream",
     "text": [
      "Wall time: 17.2 s\n"
     ]
    },
    {
     "data": {
      "text/plain": "                                   smiles  \\\n0            CCOc1ccc2nc(S(N)(=O)=O)sc2c1   \n1  O=C(O)Cc1cc(I)c(Oc2ccc(O)c(I)c2)c(I)c1   \n2         Cl/C=C\\C[N+]12CN3CN(CN(C3)C1)C2   \n3                O=C([O-])Cc1cccc2ccccc12   \n4           CCOc1ccc(S(=O)(=O)O)c2cccnc12   \n\n                                            molecule  \\\n0  <rdkit.Chem.rdchem.Mol object at 0x0000028C198...   \n1  <rdkit.Chem.rdchem.Mol object at 0x0000028C20B...   \n2  <rdkit.Chem.rdchem.Mol object at 0x0000028C20A...   \n3  <rdkit.Chem.rdchem.Mol object at 0x0000028C20A...   \n4  <rdkit.Chem.rdchem.Mol object at 0x0000028C20A...   \n\n                                               image  toxic  \n0  [[[0.0], [0.0], [0.0], [0.0], [0.0], [0.0], [0...      1  \n1  [[[0.0], [0.0], [0.0], [0.0], [0.0], [0.0], [0...      1  \n2  [[[0.0], [0.0], [0.0], [0.0], [0.0], [0.0], [0...      1  \n3  [[[0.0], [0.0], [0.0], [0.0], [0.0], [0.0], [0...      1  \n4  [[[0.0], [0.0], [0.0], [0.0], [0.0], [0.0], [0...      1  ",
      "text/html": "<div>\n<style scoped>\n    .dataframe tbody tr th:only-of-type {\n        vertical-align: middle;\n    }\n\n    .dataframe tbody tr th {\n        vertical-align: top;\n    }\n\n    .dataframe thead th {\n        text-align: right;\n    }\n</style>\n<table border=\"1\" class=\"dataframe\">\n  <thead>\n    <tr style=\"text-align: right;\">\n      <th></th>\n      <th>smiles</th>\n      <th>molecule</th>\n      <th>image</th>\n      <th>toxic</th>\n    </tr>\n  </thead>\n  <tbody>\n    <tr>\n      <th>0</th>\n      <td>CCOc1ccc2nc(S(N)(=O)=O)sc2c1</td>\n      <td>&lt;rdkit.Chem.rdchem.Mol object at 0x0000028C198...</td>\n      <td>[[[0.0], [0.0], [0.0], [0.0], [0.0], [0.0], [0...</td>\n      <td>1</td>\n    </tr>\n    <tr>\n      <th>1</th>\n      <td>O=C(O)Cc1cc(I)c(Oc2ccc(O)c(I)c2)c(I)c1</td>\n      <td>&lt;rdkit.Chem.rdchem.Mol object at 0x0000028C20B...</td>\n      <td>[[[0.0], [0.0], [0.0], [0.0], [0.0], [0.0], [0...</td>\n      <td>1</td>\n    </tr>\n    <tr>\n      <th>2</th>\n      <td>Cl/C=C\\C[N+]12CN3CN(CN(C3)C1)C2</td>\n      <td>&lt;rdkit.Chem.rdchem.Mol object at 0x0000028C20A...</td>\n      <td>[[[0.0], [0.0], [0.0], [0.0], [0.0], [0.0], [0...</td>\n      <td>1</td>\n    </tr>\n    <tr>\n      <th>3</th>\n      <td>O=C([O-])Cc1cccc2ccccc12</td>\n      <td>&lt;rdkit.Chem.rdchem.Mol object at 0x0000028C20A...</td>\n      <td>[[[0.0], [0.0], [0.0], [0.0], [0.0], [0.0], [0...</td>\n      <td>1</td>\n    </tr>\n    <tr>\n      <th>4</th>\n      <td>CCOc1ccc(S(=O)(=O)O)c2cccnc12</td>\n      <td>&lt;rdkit.Chem.rdchem.Mol object at 0x0000028C20A...</td>\n      <td>[[[0.0], [0.0], [0.0], [0.0], [0.0], [0.0], [0...</td>\n      <td>1</td>\n    </tr>\n  </tbody>\n</table>\n</div>"
     },
     "execution_count": 10,
     "metadata": {},
     "output_type": "execute_result"
    }
   ],
   "source": [
    "%%time\n",
    "df['image'] = df['molecule'].map(vectorise)\n",
    "df = df[['smiles', 'molecule', 'image', 'toxic']]\n",
    "df.head()"
   ],
   "metadata": {
    "collapsed": false
   }
  },
  {
   "cell_type": "markdown",
   "source": [
    "**2.4 Data Visualisations**"
   ],
   "metadata": {
    "collapsed": false
   }
  },
  {
   "cell_type": "markdown",
   "source": [
    "set of all different atoms present in data set"
   ],
   "metadata": {
    "collapsed": false
   }
  },
  {
   "cell_type": "code",
   "execution_count": 11,
   "outputs": [
    {
     "data": {
      "text/plain": "Counter({8: 4314,\n         16: 857,\n         6: 5215,\n         7: 2909,\n         53: 46,\n         17: 864,\n         9: 361,\n         15: 154,\n         35: 133,\n         14: 44,\n         29: 5,\n         80: 12,\n         5: 20,\n         24: 3,\n         50: 19,\n         56: 3,\n         81: 1,\n         12: 2,\n         23: 1,\n         27: 2,\n         82: 1,\n         51: 2,\n         26: 5,\n         49: 1,\n         83: 1,\n         48: 2,\n         79: 3,\n         30: 6,\n         25: 2,\n         13: 6,\n         33: 7,\n         78: 3,\n         34: 3,\n         11: 6,\n         32: 1,\n         20: 3,\n         19: 3,\n         42: 1,\n         70: 1,\n         3: 1,\n         28: 1,\n         40: 1})"
     },
     "execution_count": 11,
     "metadata": {},
     "output_type": "execute_result"
    }
   ],
   "source": [
    "from collections import Counter\n",
    "\n",
    "atoms_lst = []\n",
    "for idx, mol in df.molecule.iteritems():\n",
    "    a = list(set(atom.GetAtomicNum() for atom in mol.GetAtoms()))\n",
    "    for _ in a:\n",
    "        atoms_lst.append(_)\n",
    "\n",
    "atoms = Counter(atoms_lst)\n",
    "atoms"
   ],
   "metadata": {
    "collapsed": false
   }
  },
  {
   "cell_type": "code",
   "execution_count": 12,
   "outputs": [],
   "source": [
    "elements = {3:'Li', 5:'B', 6:'C', 7:'N', 8:'O', 9:'F', 11:'Na',\n",
    "            12:'Mg', 13:'Al', 14:'Si', 15:'P', 16:'S', 17:'Cl',\n",
    "            19:'K', 20:'Ca', 23:'V', 24:'Cr', 25:'Mn', 26:'Fe',\n",
    "            27:'Co', 28:'Ni', 29:'Cu', 30:'Zn', 32:'Ge', 33:'As',\n",
    "            34:'Se', 35:'Br', 40:'Zr', 42:'Mo', 48:'Cd', 49:'In',\n",
    "            50:'Sn', 51:'Sb', 53:'I', 56:'Ba', 70:'Yb', 78:'Pt',\n",
    "            79:'Au', 80:'Hg', 81:'Tl', 82:'Pb', 83:'Bi'}"
   ],
   "metadata": {
    "collapsed": false
   }
  },
  {
   "cell_type": "code",
   "execution_count": 13,
   "outputs": [
    {
     "data": {
      "text/plain": "{'O': (8, 4314),\n 'S': (16, 857),\n 'C': (6, 5215),\n 'N': (7, 2909),\n 'I': (53, 46),\n 'Cl': (17, 864),\n 'F': (9, 361),\n 'P': (15, 154),\n 'Br': (35, 133),\n 'Si': (14, 44),\n 'Cu': (29, 5),\n 'Hg': (80, 12),\n 'B': (5, 20),\n 'Cr': (24, 3),\n 'Sn': (50, 19),\n 'Ba': (56, 3),\n 'Tl': (81, 1),\n 'Mg': (12, 2),\n 'V': (23, 1),\n 'Co': (27, 2),\n 'Pb': (82, 1),\n 'Sb': (51, 2),\n 'Fe': (26, 5),\n 'In': (49, 1),\n 'Bi': (83, 1),\n 'Cd': (48, 2),\n 'Au': (79, 3),\n 'Zn': (30, 6),\n 'Mn': (25, 2),\n 'Al': (13, 6),\n 'As': (33, 7),\n 'Pt': (78, 3),\n 'Se': (34, 3),\n 'Na': (11, 6),\n 'Ge': (32, 1),\n 'Ca': (20, 3),\n 'K': (19, 3),\n 'Mo': (42, 1),\n 'Yb': (70, 1),\n 'Li': (3, 1),\n 'Ni': (28, 1),\n 'Zr': (40, 1)}"
     },
     "execution_count": 13,
     "metadata": {},
     "output_type": "execute_result"
    }
   ],
   "source": [
    "combined = {}\n",
    "for atomic_num, count in atoms.items():\n",
    "    combined[ elements[atomic_num] ] = (atomic_num, count)\n",
    "combined"
   ],
   "metadata": {
    "collapsed": false
   }
  },
  {
   "cell_type": "markdown",
   "source": [
    "**2.5 Train, Test and Validation Sets**"
   ],
   "metadata": {
    "collapsed": false
   }
  },
  {
   "cell_type": "code",
   "execution_count": 14,
   "outputs": [
    {
     "name": "stdout",
     "output_type": "stream",
     "text": [
      " Training set: 4215 molecules (0.80)\n",
      " Validation set: 527 molecules (0.10)\n",
      " Testing set: 527 molecules (0.10)\n"
     ]
    }
   ],
   "source": [
    "# I will train with separate training (80%), validation (10%) and testing (10%) sets.\n",
    "\n",
    "train_ratio = 0.80\n",
    "validation_ratio = 0.10\n",
    "test_ratio = 0.10\n",
    "\n",
    "# train is now 80% of the entire data set\n",
    "img_train, img_test, tox_train, tox_test = train_test_split(df['image'], df['toxic'], test_size=1 - train_ratio)\n",
    "\n",
    "# test is now 10% of the initial data set\n",
    "# validation is now 10% of the initial data set\n",
    "img_val, img_test, tox_val, tox_test= train_test_split(img_test, tox_test, test_size=test_ratio/(test_ratio + validation_ratio))\n",
    "\n",
    "total = df['toxic'].shape[0]\n",
    "\n",
    "print(f' Training set: {tox_train.shape[0]} molecules ({100*tox_train.shape[0]/total:.0f}%)\\n'\n",
    "      f' Validation set: {tox_val.shape[0]} molecules ({100*tox_val.shape[0]/total:.0f}%)\\n'\n",
    "      f' Testing set: {tox_test.shape[0]} molecules ({100*tox_test.shape[0]/total:.0f}%)')"
   ],
   "metadata": {
    "collapsed": false
   }
  },
  {
   "cell_type": "code",
   "execution_count": 15,
   "outputs": [
    {
     "data": {
      "text/plain": "(95, 95, 1)"
     },
     "execution_count": 15,
     "metadata": {},
     "output_type": "execute_result"
    }
   ],
   "source": [
    "df.image[0].shape"
   ],
   "metadata": {
    "collapsed": false
   }
  },
  {
   "cell_type": "code",
   "execution_count": 16,
   "outputs": [],
   "source": [
    "#reshape data to fit model\n",
    "img_train = np.stack(img_train)  # (4215, 95, 95, 1)\n",
    "img_test = np.stack(img_test)  # (527, 95, 95, 1)\n",
    "img_val = np.stack(img_val)  # (527, 95, 95, 1)"
   ],
   "metadata": {
    "collapsed": false
   }
  },
  {
   "cell_type": "code",
   "execution_count": 17,
   "outputs": [],
   "source": [
    "# StandardScaler is used here as the vast majority of atoms are light (e.g. C, O, N) with a few much heavier atoms (e.g. I, Au, Pb).\n",
    "img_train = (img_train - img_train.mean()) / img_train.std()\n",
    "img_test = (img_test - img_train.mean()) / img_train.std()\n",
    "img_val = (img_val - img_train.mean()) / img_train.std()"
   ],
   "metadata": {
    "collapsed": false
   }
  },
  {
   "cell_type": "code",
   "execution_count": 18,
   "outputs": [],
   "source": [
    "# correctly format toxicity values (np.array instead of pd.Series)\n",
    "tox_train = np.array(tox_train)\n",
    "tox_test = np.array(tox_test)\n",
    "tox_val = np.array(tox_val)"
   ],
   "metadata": {
    "collapsed": false
   }
  },
  {
   "cell_type": "markdown",
   "source": [
    "## 3. Build network and training"
   ],
   "metadata": {
    "collapsed": false
   }
  },
  {
   "cell_type": "markdown",
   "source": [
    "[info about LeNet and an image of final layers structure]"
   ],
   "metadata": {
    "collapsed": false
   }
  },
  {
   "cell_type": "code",
   "execution_count": 24,
   "outputs": [],
   "source": [
    "from keras.models import Sequential\n",
    "from keras.layers import Dense, Conv2D, Flatten, MaxPool2D, BatchNormalization, Dropout\n",
    "\n",
    "def build_model():\n",
    "\n",
    "    model = Sequential()\n",
    "    model.add(Conv2D(filters=32, kernel_size=(5,5), strides=(1,1), padding='SAME', activation='relu', input_shape=(95, 95, 1)))\n",
    "    model.add(MaxPool2D(pool_size=(2,2)))\n",
    "    model.add(BatchNormalization())\n",
    "    model.add(Dropout(0.25))\n",
    "    model.add(Conv2D(filters=64, kernel_size=(5,5), padding='SAME', activation='relu'))\n",
    "    model.add(MaxPool2D(pool_size=(2,2)))\n",
    "    model.add(BatchNormalization())\n",
    "    model.add(Dropout(0.25))\n",
    "    model.add(Flatten())\n",
    "    model.add(Dense(256, activation='relu'))\n",
    "    model.add(Dropout(0.5))\n",
    "    model.add(Dense(1, activation='sigmoid'))\n",
    "\n",
    "    model.compile(loss=keras.losses.BinaryCrossentropy(),\n",
    "                  optimizer=keras.optimizers.Adam(learning_rate=0.0001),\n",
    "                  # optimizer=keras.optimizers.Adam(),\n",
    "                  metrics=['binary_accuracy'])\n",
    "\n",
    "    return model"
   ],
   "metadata": {
    "collapsed": false
   }
  },
  {
   "cell_type": "code",
   "execution_count": 25,
   "outputs": [
    {
     "name": "stdout",
     "output_type": "stream",
     "text": [
      "Model: \"sequential_1\"\n",
      "_________________________________________________________________\n",
      " Layer (type)                Output Shape              Param #   \n",
      "=================================================================\n",
      " conv2d_2 (Conv2D)           (None, 95, 95, 32)        832       \n",
      "                                                                 \n",
      " max_pooling2d_2 (MaxPooling  (None, 47, 47, 32)       0         \n",
      " 2D)                                                             \n",
      "                                                                 \n",
      " batch_normalization_2 (Batc  (None, 47, 47, 32)       128       \n",
      " hNormalization)                                                 \n",
      "                                                                 \n",
      " dropout_3 (Dropout)         (None, 47, 47, 32)        0         \n",
      "                                                                 \n",
      " conv2d_3 (Conv2D)           (None, 47, 47, 64)        51264     \n",
      "                                                                 \n",
      " max_pooling2d_3 (MaxPooling  (None, 23, 23, 64)       0         \n",
      " 2D)                                                             \n",
      "                                                                 \n",
      " batch_normalization_3 (Batc  (None, 23, 23, 64)       256       \n",
      " hNormalization)                                                 \n",
      "                                                                 \n",
      " dropout_4 (Dropout)         (None, 23, 23, 64)        0         \n",
      "                                                                 \n",
      " flatten_1 (Flatten)         (None, 33856)             0         \n",
      "                                                                 \n",
      " dense_2 (Dense)             (None, 256)               8667392   \n",
      "                                                                 \n",
      " dropout_5 (Dropout)         (None, 256)               0         \n",
      "                                                                 \n",
      " dense_3 (Dense)             (None, 1)                 257       \n",
      "                                                                 \n",
      "=================================================================\n",
      "Total params: 8,720,129\n",
      "Trainable params: 8,719,937\n",
      "Non-trainable params: 192\n",
      "_________________________________________________________________\n"
     ]
    }
   ],
   "source": [
    "model= build_model()\n",
    "model.summary()"
   ],
   "metadata": {
    "collapsed": false
   }
  },
  {
   "cell_type": "markdown",
   "source": [
    "3.2 Training Network"
   ],
   "metadata": {
    "collapsed": false
   }
  },
  {
   "cell_type": "code",
   "execution_count": 26,
   "outputs": [
    {
     "name": "stdout",
     "output_type": "stream",
     "text": [
      "Epoch 1/40\n",
      "132/132 [==============================] - 107s 788ms/step - loss: 0.7232 - binary_accuracy: 0.6548 - val_loss: 1.0331 - val_binary_accuracy: 0.4725 - lr: 1.0000e-04\n",
      "Epoch 2/40\n",
      "132/132 [==============================] - 102s 770ms/step - loss: 0.6461 - binary_accuracy: 0.6759 - val_loss: 1.0702 - val_binary_accuracy: 0.4725 - lr: 1.0000e-04\n",
      "Epoch 3/40\n",
      "132/132 [==============================] - 102s 774ms/step - loss: 0.6137 - binary_accuracy: 0.6994 - val_loss: 0.9193 - val_binary_accuracy: 0.4744 - lr: 1.0000e-04\n",
      "Epoch 4/40\n",
      "132/132 [==============================] - 110s 835ms/step - loss: 0.5924 - binary_accuracy: 0.7025 - val_loss: 0.8388 - val_binary_accuracy: 0.4744 - lr: 1.0000e-04\n",
      "Epoch 5/40\n",
      "132/132 [==============================] - 107s 813ms/step - loss: 0.5795 - binary_accuracy: 0.7129 - val_loss: 0.9211 - val_binary_accuracy: 0.4744 - lr: 1.0000e-04\n",
      "Epoch 6/40\n",
      "132/132 [==============================] - 97s 737ms/step - loss: 0.5785 - binary_accuracy: 0.7063 - val_loss: 1.0186 - val_binary_accuracy: 0.4744 - lr: 1.0000e-04\n",
      "Epoch 7/40\n",
      "132/132 [==============================] - 102s 772ms/step - loss: 0.5626 - binary_accuracy: 0.7170 - val_loss: 1.0079 - val_binary_accuracy: 0.4744 - lr: 1.0000e-04\n",
      "Epoch 8/40\n",
      "132/132 [==============================] - 97s 735ms/step - loss: 0.5499 - binary_accuracy: 0.7319 - val_loss: 0.9765 - val_binary_accuracy: 0.4744 - lr: 1.0000e-05\n",
      "Epoch 9/40\n",
      "132/132 [==============================] - 98s 741ms/step - loss: 0.5517 - binary_accuracy: 0.7269 - val_loss: 1.0144 - val_binary_accuracy: 0.4744 - lr: 1.0000e-05\n",
      "Epoch 10/40\n",
      "132/132 [==============================] - 102s 777ms/step - loss: 0.5366 - binary_accuracy: 0.7345 - val_loss: 1.0300 - val_binary_accuracy: 0.4744 - lr: 1.0000e-05\n",
      "Epoch 11/40\n",
      "132/132 [==============================] - 108s 819ms/step - loss: 0.5398 - binary_accuracy: 0.7333 - val_loss: 1.0464 - val_binary_accuracy: 0.4744 - lr: 1.0000e-06\n",
      "Epoch 12/40\n",
      "132/132 [==============================] - 111s 839ms/step - loss: 0.5433 - binary_accuracy: 0.7314 - val_loss: 1.0522 - val_binary_accuracy: 0.4744 - lr: 1.0000e-06\n",
      "Epoch 13/40\n",
      "132/132 [==============================] - 111s 840ms/step - loss: 0.5337 - binary_accuracy: 0.7414 - val_loss: 1.0515 - val_binary_accuracy: 0.4744 - lr: 1.0000e-06\n",
      "Epoch 14/40\n",
      "132/132 [==============================] - 103s 784ms/step - loss: 0.5364 - binary_accuracy: 0.7376 - val_loss: 1.0567 - val_binary_accuracy: 0.4744 - lr: 1.0000e-07\n",
      "Wall time: 24min 17s\n"
     ]
    }
   ],
   "source": [
    "%%time\n",
    "history = model.fit(img_train, tox_train,\n",
    "                    validation_data=(img_val, tox_val),\n",
    "                    epochs=40,\n",
    "                    batch_size=32,\n",
    "                    callbacks=[keras.callbacks.EarlyStopping(monitor='val_loss',\n",
    "                                                             mode='min',\n",
    "                                                             patience=10,\n",
    "                                                             min_delta=0.005,\n",
    "                                                             restore_best_weights=True),\n",
    "                               keras.callbacks.ReduceLROnPlateau(monitor = 'val_loss',\n",
    "                                                                 patience = 3)\n",
    "                               ]\n",
    "                    )"
   ],
   "metadata": {
    "collapsed": false
   }
  },
  {
   "cell_type": "code",
   "execution_count": 27,
   "outputs": [
    {
     "data": {
      "text/plain": "<Figure size 720x360 with 2 Axes>",
      "image/png": "[encoded data removed]"
     },
     "metadata": {
      "needs_background": "light"
     },
     "output_type": "display_data"
    }
   ],
   "source": [
    "fig, ax = plt.subplots(ncols=2, figsize=(10,5))\n",
    "\n",
    "ax1 = ax[0]\n",
    "ax1.plot(history.history['loss'], label='train')\n",
    "ax1.plot(history.history['val_loss'], label='val')\n",
    "ax1.set_title('Model loss')\n",
    "ax1.set_xlabel('Epochs')\n",
    "ax1.set_ylabel('Loss')\n",
    "ax1.legend()\n",
    "\n",
    "ax2 = ax[1]\n",
    "ax2.plot(history.history['binary_accuracy'], label='train')\n",
    "ax2.plot(history.history['val_binary_accuracy'], label='val')\n",
    "ax2.set_title('Model accuracy')\n",
    "ax2.set_xlabel('Epochs')\n",
    "ax2.set_ylabel('Accuracy')\n",
    "ax2.legend()\n",
    "\n",
    "plt.show()"
   ],
   "metadata": {
    "collapsed": false
   }
  },
  {
   "cell_type": "code",
   "execution_count": 28,
   "outputs": [
    {
     "name": "stdout",
     "output_type": "stream",
     "text": [
      "17/17 [==============================] - 2s 124ms/step\n"
     ]
    }
   ],
   "source": [
    "tox_test_pred = model.predict(img_test)\n",
    "test_results = pd.DataFrame({'toxic':tox_test, 'model_1': tox_test_pred.flatten()})"
   ],
   "metadata": {
    "collapsed": false
   }
  },
  {
   "cell_type": "code",
   "execution_count": 29,
   "outputs": [
    {
     "data": {
      "text/plain": "     toxic   model_1\n0        1  0.254476\n1        0  0.178268\n2        1  0.196982\n3        0  0.250909\n4        0  0.158463\n..     ...       ...\n522      0  0.181783\n523      1  0.177172\n524      1  0.213431\n525      1  0.320676\n526      1  0.350759\n\n[527 rows x 2 columns]",
      "text/html": "<div>\n<style scoped>\n    .dataframe tbody tr th:only-of-type {\n        vertical-align: middle;\n    }\n\n    .dataframe tbody tr th {\n        vertical-align: top;\n    }\n\n    .dataframe thead th {\n        text-align: right;\n    }\n</style>\n<table border=\"1\" class=\"dataframe\">\n  <thead>\n    <tr style=\"text-align: right;\">\n      <th></th>\n      <th>toxic</th>\n      <th>model_1</th>\n    </tr>\n  </thead>\n  <tbody>\n    <tr>\n      <th>0</th>\n      <td>1</td>\n      <td>0.254476</td>\n    </tr>\n    <tr>\n      <th>1</th>\n      <td>0</td>\n      <td>0.178268</td>\n    </tr>\n    <tr>\n      <th>2</th>\n      <td>1</td>\n      <td>0.196982</td>\n    </tr>\n    <tr>\n      <th>3</th>\n      <td>0</td>\n      <td>0.250909</td>\n    </tr>\n    <tr>\n      <th>4</th>\n      <td>0</td>\n      <td>0.158463</td>\n    </tr>\n    <tr>\n      <th>...</th>\n      <td>...</td>\n      <td>...</td>\n    </tr>\n    <tr>\n      <th>522</th>\n      <td>0</td>\n      <td>0.181783</td>\n    </tr>\n    <tr>\n      <th>523</th>\n      <td>1</td>\n      <td>0.177172</td>\n    </tr>\n    <tr>\n      <th>524</th>\n      <td>1</td>\n      <td>0.213431</td>\n    </tr>\n    <tr>\n      <th>525</th>\n      <td>1</td>\n      <td>0.320676</td>\n    </tr>\n    <tr>\n      <th>526</th>\n      <td>1</td>\n      <td>0.350759</td>\n    </tr>\n  </tbody>\n</table>\n<p>527 rows × 2 columns</p>\n</div>"
     },
     "execution_count": 29,
     "metadata": {},
     "output_type": "execute_result"
    }
   ],
   "source": [
    "test_results"
   ],
   "metadata": {
    "collapsed": false
   }
  },
  {
   "cell_type": "code",
   "execution_count": 30,
   "outputs": [
    {
     "name": "stderr",
     "output_type": "stream",
     "text": [
      "WARNING:absl:Found untraced functions such as _jit_compiled_convolution_op, _jit_compiled_convolution_op, _update_step_xla while saving (showing 3 of 3). These functions will not be directly callable after loading.\n"
     ]
    },
    {
     "name": "stdout",
     "output_type": "stream",
     "text": [
      "INFO:tensorflow:Assets written to: models\\model_1\\assets\n"
     ]
    },
    {
     "name": "stderr",
     "output_type": "stream",
     "text": [
      "INFO:tensorflow:Assets written to: models\\model_1\\assets\n"
     ]
    }
   ],
   "source": [
    "model.save('models\\model_1')"
   ],
   "metadata": {
    "collapsed": false
   }
  },
  {
   "cell_type": "markdown",
   "source": [
    "Validation Results"
   ],
   "metadata": {
    "collapsed": false
   }
  },
  {
   "cell_type": "code",
   "execution_count": 31,
   "outputs": [
    {
     "name": "stdout",
     "output_type": "stream",
     "text": [
      "17/17 [==============================] - 3s 175ms/step\n"
     ]
    },
    {
     "data": {
      "text/plain": "0.7488298"
     },
     "execution_count": 31,
     "metadata": {},
     "output_type": "execute_result"
    }
   ],
   "source": [
    "tox_val_pred = model.predict(img_val)\n",
    "tox_val_pred.max()"
   ],
   "metadata": {
    "collapsed": false
   }
  },
  {
   "cell_type": "code",
   "execution_count": 33,
   "outputs": [
    {
     "data": {
      "text/plain": "Text(34.0, 0.5, 'True')"
     },
     "execution_count": 33,
     "metadata": {},
     "output_type": "execute_result"
    },
    {
     "data": {
      "text/plain": "<Figure size 432x288 with 2 Axes>",
      "image/png": "[encoded data removed]"
     },
     "metadata": {
      "needs_background": "light"
     },
     "output_type": "display_data"
    }
   ],
   "source": [
    "from sklearn.metrics import confusion_matrix\n",
    "cf_matrix = confusion_matrix(tox_val, tox_val_pred.flatten().round())\n",
    "sns.heatmap(cf_matrix, annot=True, cmap='Blues', fmt='g')\n",
    "plt.title('Confusion matrix')\n",
    "plt.xlabel('Pred')\n",
    "plt.ylabel('True')"
   ],
   "metadata": {
    "collapsed": false
   }
  },
  {
   "cell_type": "markdown",
   "source": [
    "# 4. Data Augmentation"
   ],
   "metadata": {
    "collapsed": false
   }
  },
  {
   "cell_type": "code",
   "execution_count": null,
   "outputs": [],
   "source": [
    "from keras.preprocessing.image import ImageDataGenerator"
   ],
   "metadata": {
    "collapsed": false
   }
  },
  {
   "cell_type": "code",
   "execution_count": null,
   "outputs": [],
   "source": [
    "datagen = ImageDataGenerator(\n",
    "    rotation_range=10,\n",
    "    width_shift_range=0.1,\n",
    "    height_shift_range=0.1,\n",
    "    zoom_range = 0.10,\n",
    ")"
   ],
   "metadata": {
    "collapsed": false
   }
  },
  {
   "cell_type": "code",
   "execution_count": null,
   "outputs": [],
   "source": [
    "temp_example_X = img_train[100]\n",
    "temp_example_y = tox_train[100]\n",
    "plt.figure(figsize=(10,10))\n",
    "plt.title('Test example')\n",
    "plt.imshow(temp_example_X.squeeze(), cmap='Greys')"
   ],
   "metadata": {
    "collapsed": false
   }
  },
  {
   "cell_type": "code",
   "execution_count": null,
   "outputs": [],
   "source": [
    "fig, axes = plt.subplots(3, 3, figsize=(15,15))\n",
    "fig.suptitle('Augmented images for test example')\n",
    "for i in range(3):\n",
    "    for j in range(3):\n",
    "        augmented_example_X, augmented_example_y = datagen.flow(temp_example_X, temp_example_y, batch_size=1).next()\n",
    "        axes[i,j].imshow(augmented_example_X.squeeze(), cmap='Greys')\n",
    "        axes[i,j].set_xticks([])\n",
    "        axes[i,j].set_yticks([])"
   ],
   "metadata": {
    "collapsed": false
   }
  },
  {
   "cell_type": "code",
   "execution_count": null,
   "outputs": [],
   "source": [
    "model2 = build_model()"
   ],
   "metadata": {
    "collapsed": false
   }
  },
  {
   "cell_type": "code",
   "execution_count": null,
   "outputs": [],
   "source": [
    "train_generator = datagen.flow(img_train, tox_train, batch_size=32)"
   ],
   "metadata": {
    "collapsed": false
   }
  },
  {
   "cell_type": "code",
   "execution_count": null,
   "outputs": [],
   "source": [
    "steps_per_epoch = train_generator.n // train_generator.batch_size"
   ],
   "metadata": {
    "collapsed": false
   }
  },
  {
   "cell_type": "code",
   "execution_count": null,
   "outputs": [],
   "source": [
    "%%time\n",
    "history2 = model2.fit(train_generator,\n",
    "                      validation_data=(img_val, tox_val),\n",
    "                      epochs=40,\n",
    "                      steps_per_epoch=steps_per_epoch,\n",
    "                      callbacks=[keras.callbacks.EarlyStopping(monitor='val_loss',\n",
    "                                                               mode='min',\n",
    "                                                               patience=10,\n",
    "                                                               min_delta=0.005,\n",
    "                                                               restore_best_weights=True),\n",
    "                                 keras.callbacks.ReduceLROnPlateau(monitor = 'val_loss',\n",
    "                                                                   patience = 3)\n",
    "                                 ]\n",
    "                      )"
   ],
   "metadata": {
    "collapsed": false
   }
  },
  {
   "cell_type": "code",
   "execution_count": null,
   "outputs": [],
   "source": [
    "fig, ax = plt.subplots(ncols=2, figsize=(10,5))\n",
    "\n",
    "ax1 = ax[0]\n",
    "ax1.plot(history2.history['loss'], label='train')\n",
    "ax1.plot(history2.history['val_loss'], label='val')\n",
    "ax1.set_title('Model loss')\n",
    "ax1.set_xlabel('Epochs')\n",
    "ax1.set_ylabel('Loss')\n",
    "ax1.legend()\n",
    "\n",
    "ax2 = ax[1]\n",
    "ax2.plot(history2.history['binary_accuracy'], label='train')\n",
    "ax2.plot(history2.history['val_binary_accuracy'], label='val')\n",
    "ax2.set_title('Model accuracy')\n",
    "ax2.set_xlabel('Epochs')\n",
    "ax2.set_ylabel('Accuracy')\n",
    "ax2.legend()\n",
    "\n",
    "plt.show()"
   ],
   "metadata": {
    "collapsed": false
   }
  },
  {
   "cell_type": "code",
   "execution_count": null,
   "outputs": [],
   "source": [],
   "metadata": {
    "collapsed": false
   }
  }
 ],
 "metadata": {
  "kernelspec": {
   "display_name": "Python 3",
   "language": "python",
   "name": "python3"
  },
  "language_info": {
   "codemirror_mode": {
    "name": "ipython",
    "version": 2
   },
   "file_extension": ".py",
   "mimetype": "text/x-python",
   "name": "python",
   "nbconvert_exporter": "python",
   "pygments_lexer": "ipython2",
   "version": "2.7.6"
  }
 },
 "nbformat": 4,
 "nbformat_minor": 0
}
