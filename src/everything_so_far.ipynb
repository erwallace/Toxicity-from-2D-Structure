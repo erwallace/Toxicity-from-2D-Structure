{
 "cells": [
  {
   "cell_type": "code",
   "execution_count": 1,
   "id": "initial_id",
   "metadata": {
    "ExecuteTime": {
     "end_time": "2024-09-08T20:39:54.561802300Z",
     "start_time": "2024-09-08T20:39:50.848915200Z"
    },
    "collapsed": true
   },
   "outputs": [],
   "source": [
    "import pandas as pd\n",
    "\n",
    "from torch.utils.data import DataLoader\n",
    "from torchvision import transforms\n",
    "\n",
    "from src.datasets import Tox21Dataset\n",
    "from src.transforms import SMILESToMol, MolToGreyscale\n",
    "from src.target_transforms import BinaryToxicity\n",
    "from src.utils import plot_greyscale"
   ]
  },
  {
   "cell_type": "code",
   "execution_count": 2,
   "id": "41ff48a64e8100f7",
   "metadata": {
    "ExecuteTime": {
     "end_time": "2024-09-08T20:39:54.624449100Z",
     "start_time": "2024-09-08T20:39:54.561802300Z"
    },
    "collapsed": false
   },
   "outputs": [
    {
     "name": "stdout",
     "output_type": "stream",
     "text": [
      "(7817, 14)\n"
     ]
    },
    {
     "data": {
      "text/html": "<div>\n<style scoped>\n    .dataframe tbody tr th:only-of-type {\n        vertical-align: middle;\n    }\n\n    .dataframe tbody tr th {\n        vertical-align: top;\n    }\n\n    .dataframe thead th {\n        text-align: right;\n    }\n</style>\n<table border=\"1\" class=\"dataframe\">\n  <thead>\n    <tr style=\"text-align: right;\">\n      <th></th>\n      <th>NR-AR</th>\n      <th>NR-AR-LBD</th>\n      <th>NR-AhR</th>\n      <th>NR-Aromatase</th>\n      <th>NR-ER</th>\n      <th>NR-ER-LBD</th>\n      <th>NR-PPAR-gamma</th>\n      <th>SR-ARE</th>\n      <th>SR-ATAD5</th>\n      <th>SR-HSE</th>\n      <th>SR-MMP</th>\n      <th>SR-p53</th>\n      <th>mol_id</th>\n      <th>smiles</th>\n    </tr>\n  </thead>\n  <tbody>\n    <tr>\n      <th>0</th>\n      <td>0.0</td>\n      <td>0.0</td>\n      <td>1.0</td>\n      <td>NaN</td>\n      <td>NaN</td>\n      <td>0.0</td>\n      <td>0.0</td>\n      <td>1.0</td>\n      <td>0.0</td>\n      <td>0.0</td>\n      <td>0.0</td>\n      <td>0.0</td>\n      <td>TOX3021</td>\n      <td>CCOc1ccc2nc(S(N)(=O)=O)sc2c1</td>\n    </tr>\n    <tr>\n      <th>1</th>\n      <td>0.0</td>\n      <td>0.0</td>\n      <td>0.0</td>\n      <td>0.0</td>\n      <td>0.0</td>\n      <td>0.0</td>\n      <td>0.0</td>\n      <td>NaN</td>\n      <td>0.0</td>\n      <td>NaN</td>\n      <td>0.0</td>\n      <td>0.0</td>\n      <td>TOX3020</td>\n      <td>CCN1C(=O)NC(c2ccccc2)C1=O</td>\n    </tr>\n    <tr>\n      <th>2</th>\n      <td>NaN</td>\n      <td>NaN</td>\n      <td>NaN</td>\n      <td>NaN</td>\n      <td>NaN</td>\n      <td>NaN</td>\n      <td>NaN</td>\n      <td>0.0</td>\n      <td>NaN</td>\n      <td>0.0</td>\n      <td>NaN</td>\n      <td>NaN</td>\n      <td>TOX3024</td>\n      <td>CC[C@]1(O)CC[C@H]2[C@@H]3CCC4=CCCC[C@@H]4[C@H]...</td>\n    </tr>\n    <tr>\n      <th>3</th>\n      <td>0.0</td>\n      <td>0.0</td>\n      <td>0.0</td>\n      <td>0.0</td>\n      <td>0.0</td>\n      <td>0.0</td>\n      <td>0.0</td>\n      <td>NaN</td>\n      <td>0.0</td>\n      <td>NaN</td>\n      <td>0.0</td>\n      <td>0.0</td>\n      <td>TOX3027</td>\n      <td>CCCN(CC)C(CC)C(=O)Nc1c(C)cccc1C</td>\n    </tr>\n    <tr>\n      <th>4</th>\n      <td>0.0</td>\n      <td>0.0</td>\n      <td>0.0</td>\n      <td>0.0</td>\n      <td>0.0</td>\n      <td>0.0</td>\n      <td>0.0</td>\n      <td>0.0</td>\n      <td>0.0</td>\n      <td>0.0</td>\n      <td>0.0</td>\n      <td>0.0</td>\n      <td>TOX20800</td>\n      <td>CC(O)(P(=O)(O)O)P(=O)(O)O</td>\n    </tr>\n  </tbody>\n</table>\n</div>",
      "text/plain": "   NR-AR  NR-AR-LBD  NR-AhR  NR-Aromatase  NR-ER  NR-ER-LBD  NR-PPAR-gamma  \\\n0    0.0        0.0     1.0           NaN    NaN        0.0            0.0   \n1    0.0        0.0     0.0           0.0    0.0        0.0            0.0   \n2    NaN        NaN     NaN           NaN    NaN        NaN            NaN   \n3    0.0        0.0     0.0           0.0    0.0        0.0            0.0   \n4    0.0        0.0     0.0           0.0    0.0        0.0            0.0   \n\n   SR-ARE  SR-ATAD5  SR-HSE  SR-MMP  SR-p53    mol_id  \\\n0     1.0       0.0     0.0     0.0     0.0   TOX3021   \n1     NaN       0.0     NaN     0.0     0.0   TOX3020   \n2     0.0       NaN     0.0     NaN     NaN   TOX3024   \n3     NaN       0.0     NaN     0.0     0.0   TOX3027   \n4     0.0       0.0     0.0     0.0     0.0  TOX20800   \n\n                                              smiles  \n0                       CCOc1ccc2nc(S(N)(=O)=O)sc2c1  \n1                          CCN1C(=O)NC(c2ccccc2)C1=O  \n2  CC[C@]1(O)CC[C@H]2[C@@H]3CCC4=CCCC[C@@H]4[C@H]...  \n3                    CCCN(CC)C(CC)C(=O)Nc1c(C)cccc1C  \n4                          CC(O)(P(=O)(O)O)P(=O)(O)O  "
     },
     "execution_count": 2,
     "metadata": {},
     "output_type": "execute_result"
    }
   ],
   "source": [
    "df = pd.read_csv(\"../data/tox21_data.csv\")\n",
    "print(df.shape)\n",
    "df.head()"
   ]
  },
  {
   "cell_type": "code",
   "execution_count": 3,
   "id": "7dd7d919292d79a4",
   "metadata": {
    "ExecuteTime": {
     "end_time": "2024-09-08T20:39:54.863816700Z",
     "start_time": "2024-09-08T20:39:54.780374100Z"
    },
    "collapsed": false
   },
   "outputs": [],
   "source": [
    "transform = transforms.Compose(\n",
    "    [\n",
    "        SMILESToMol(),\n",
    "        MolToGreyscale(embed=19, res=0.4),\n",
    "        # transforms.Normalize(),  # need to standardise somehow\n",
    "        BinaryToxicity(),\n",
    "    ]\n",
    ")"
   ]
  },
  {
   "cell_type": "code",
   "execution_count": 4,
   "id": "8bce0d6f2f1d5938",
   "metadata": {
    "ExecuteTime": {
     "end_time": "2024-09-08T20:39:55.967643300Z",
     "start_time": "2024-09-08T20:39:55.944755Z"
    },
    "collapsed": false
   },
   "outputs": [],
   "source": [
    "tox21 = Tox21Dataset(csv_path=\"../data/tox21_raw.csv\", transform=transform)"
   ]
  },
  {
   "cell_type": "code",
   "execution_count": 5,
   "id": "4739bb36b0f93",
   "metadata": {
    "ExecuteTime": {
     "end_time": "2024-09-08T20:39:56.889608800Z",
     "start_time": "2024-09-08T20:39:56.861950300Z"
    },
    "collapsed": false
   },
   "outputs": [
    {
     "data": {
      "text/plain": "7817"
     },
     "execution_count": 5,
     "metadata": {},
     "output_type": "execute_result"
    }
   ],
   "source": [
    "tox21.remove_nan()\n",
    "len(tox21)"
   ]
  },
  {
   "cell_type": "code",
   "execution_count": 6,
   "id": "91936fc2cea92188",
   "metadata": {
    "ExecuteTime": {
     "end_time": "2024-09-08T20:39:59.680057400Z",
     "start_time": "2024-09-08T20:39:59.647893800Z"
    },
    "collapsed": false
   },
   "outputs": [],
   "source": [
    "dataloader = DataLoader(tox21, batch_size=2, shuffle=True)"
   ]
  },
  {
   "cell_type": "code",
   "execution_count": 7,
   "id": "d691059cf758044",
   "metadata": {
    "ExecuteTime": {
     "end_time": "2024-09-08T20:40:03.262031800Z",
     "start_time": "2024-09-08T20:40:03.192368400Z"
    },
    "collapsed": false
   },
   "outputs": [
    {
     "name": "stdout",
     "output_type": "stream",
     "text": [
      "torch.Size([2, 95, 95, 1]) tensor([0, 1])\n"
     ]
    }
   ],
   "source": [
    "# use a generator to get the first batch\n",
    "dataloader_iter = iter(dataloader)\n",
    "batch = next(dataloader_iter)\n",
    "arr, labels = batch\n",
    "print(arr.shape, labels)"
   ]
  },
  {
   "cell_type": "code",
   "execution_count": 8,
   "id": "7f8ed778d31205ad",
   "metadata": {
    "ExecuteTime": {
     "end_time": "2024-09-08T20:40:04.697539900Z",
     "start_time": "2024-09-08T20:40:04.507475700Z"
    },
    "collapsed": false
   },
   "outputs": [
    {
     "data": {
      "image/png": "[encoded data removed]",
      "text/plain": "<Figure size 1000x500 with 1 Axes>"
     },
     "metadata": {},
     "output_type": "display_data"
    },
    {
     "data": {
      "image/png": "[encoded data removed]",
      "text/plain": "<Figure size 1000x500 with 1 Axes>"
     },
     "metadata": {},
     "output_type": "display_data"
    }
   ],
   "source": [
    "plot_greyscale(arr)"
   ]
  }
 ],
 "metadata": {
  "kernelspec": {
   "display_name": "Python 3",
   "language": "python",
   "name": "python3"
  },
  "language_info": {
   "codemirror_mode": {
    "name": "ipython",
    "version": 2
   },
   "file_extension": ".py",
   "mimetype": "text/x-python",
   "name": "python",
   "nbconvert_exporter": "python",
   "pygments_lexer": "ipython2",
   "version": "2.7.6"
  }
 },
 "nbformat": 4,
 "nbformat_minor": 5
}
