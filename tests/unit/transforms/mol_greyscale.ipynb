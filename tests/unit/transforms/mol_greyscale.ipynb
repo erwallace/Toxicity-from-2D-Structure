{
 "cells": [
  {
   "cell_type": "code",
   "execution_count": 1,
   "id": "initial_id",
   "metadata": {
    "ExecuteTime": {
     "end_time": "2024-09-10T08:20:09.513602200Z",
     "start_time": "2024-09-10T08:20:09.218386800Z"
    },
    "collapsed": true
   },
   "outputs": [],
   "source": [
    "from src.transforms import MolToGreyscale"
   ]
  },
  {
   "cell_type": "code",
   "execution_count": 2,
   "id": "63d2d4a2196b384a",
   "metadata": {
    "ExecuteTime": {
     "end_time": "2024-09-10T08:20:09.520722100Z",
     "start_time": "2024-09-10T08:20:09.517641700Z"
    },
    "collapsed": false
   },
   "outputs": [],
   "source": [
    "from rdkit import Chem"
   ]
  },
  {
   "cell_type": "code",
   "execution_count": 3,
   "id": "10d4ba01b7914d92",
   "metadata": {
    "ExecuteTime": {
     "end_time": "2024-09-10T08:20:09.529124600Z",
     "start_time": "2024-09-10T08:20:09.523705100Z"
    },
    "collapsed": false
   },
   "outputs": [],
   "source": []
  },
  {
   "cell_type": "code",
   "execution_count": 4,
   "id": "4a5c74c448dc29f3",
   "metadata": {
    "ExecuteTime": {
     "end_time": "2024-09-10T08:20:09.971185800Z",
     "start_time": "2024-09-10T08:20:09.531043Z"
    },
    "collapsed": false
   },
   "outputs": [],
   "source": [
    "from src.utils import plot_greyscale"
   ]
  },
  {
   "cell_type": "code",
   "execution_count": 5,
   "id": "c27bca22f5730386",
   "metadata": {
    "ExecuteTime": {
     "end_time": "2024-09-10T08:20:09.988377Z",
     "start_time": "2024-09-10T08:20:09.974171Z"
    },
    "collapsed": false
   },
   "outputs": [
    {
     "data": {
      "text/plain": "(80, 80, 1)"
     },
     "execution_count": 5,
     "metadata": {},
     "output_type": "execute_result"
    }
   ],
   "source": [
    "sample = tuple([Chem.MolFromSmiles(\"CCO\"), None])\n",
    "transformed = MolToGreyscale()(sample)\n",
    "transformed[0].shape\n",
    "# plot_greyscale(transformed[0])"
   ]
  },
  {
   "cell_type": "code",
   "execution_count": 6,
   "id": "338fc5b208b177d8",
   "metadata": {
    "ExecuteTime": {
     "end_time": "2024-09-10T08:20:18.318423200Z",
     "start_time": "2024-09-10T08:20:18.144237800Z"
    },
    "collapsed": false
   },
   "outputs": [
    {
     "data": {
      "image/png": "[encoded data removed]",
      "text/plain": "<Figure size 1000x500 with 1 Axes>"
     },
     "metadata": {},
     "output_type": "display_data"
    }
   ],
   "source": [
    "plot_greyscale(transformed[0])"
   ]
  },
  {
   "cell_type": "code",
   "execution_count": null,
   "id": "5f0e83e748e2c271",
   "metadata": {
    "collapsed": false
   },
   "outputs": [],
   "source": []
  }
 ],
 "metadata": {
  "kernelspec": {
   "display_name": "Python 3",
   "language": "python",
   "name": "python3"
  },
  "language_info": {
   "codemirror_mode": {
    "name": "ipython",
    "version": 2
   },
   "file_extension": ".py",
   "mimetype": "text/x-python",
   "name": "python",
   "nbconvert_exporter": "python",
   "pygments_lexer": "ipython2",
   "version": "2.7.6"
  }
 },
 "nbformat": 4,
 "nbformat_minor": 5
}
